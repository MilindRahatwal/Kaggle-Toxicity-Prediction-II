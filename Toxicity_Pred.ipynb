{
  "nbformat": 4,
  "nbformat_minor": 0,
  "metadata": {
    "colab": {
      "provenance": [],
      "include_colab_link": true
    },
    "kernelspec": {
      "name": "python3",
      "display_name": "Python 3"
    },
    "language_info": {
      "name": "python"
    }
  },
  "cells": [
    {
      "cell_type": "markdown",
      "metadata": {
        "id": "view-in-github",
        "colab_type": "text"
      },
      "source": [
        "<a href=\"https://colab.research.google.com/github/MilindRahatwal/Kaggle-Toxicity-Prediction-II/blob/main/Toxicity_Pred.ipynb\" target=\"_parent\"><img src=\"https://colab.research.google.com/assets/colab-badge.svg\" alt=\"Open In Colab\"/></a>"
      ]
    },
    {
      "cell_type": "code",
      "source": [
        "from google.colab import drive\n",
        "drive.mount('/content/drive')"
      ],
      "metadata": {
        "colab": {
          "base_uri": "https://localhost:8080/"
        },
        "id": "OwwtisDZBEA4",
        "outputId": "c14bf78c-4f1e-4e6c-c6c8-a14b1900cf31"
      },
      "execution_count": 1,
      "outputs": [
        {
          "output_type": "stream",
          "name": "stdout",
          "text": [
            "Mounted at /content/drive\n"
          ]
        }
      ]
    },
    {
      "cell_type": "code",
      "source": [
        "#Install required packages\n",
        "!pip install rdkit\n",
        "!pip install datamol"
      ],
      "metadata": {
        "colab": {
          "base_uri": "https://localhost:8080/"
        },
        "id": "RNM-_18J8ygx",
        "outputId": "388e100b-3ef3-4766-856c-f89ef70a2266"
      },
      "execution_count": 5,
      "outputs": [
        {
          "output_type": "stream",
          "name": "stdout",
          "text": [
            "Looking in indexes: https://pypi.org/simple, https://us-python.pkg.dev/colab-wheels/public/simple/\n",
            "Collecting rdkit\n",
            "  Downloading rdkit-2022.9.5-cp39-cp39-manylinux_2_17_x86_64.manylinux2014_x86_64.whl (29.4 MB)\n",
            "\u001b[2K     \u001b[90m━━━━━━━━━━━━━━━━━━━━━━━━━━━━━━━━━━━━━━━━\u001b[0m \u001b[32m29.4/29.4 MB\u001b[0m \u001b[31m61.7 MB/s\u001b[0m eta \u001b[36m0:00:00\u001b[0m\n",
            "\u001b[?25hRequirement already satisfied: numpy in /usr/local/lib/python3.9/dist-packages (from rdkit) (1.22.4)\n",
            "Requirement already satisfied: Pillow in /usr/local/lib/python3.9/dist-packages (from rdkit) (8.4.0)\n",
            "Installing collected packages: rdkit\n",
            "Successfully installed rdkit-2022.9.5\n",
            "Looking in indexes: https://pypi.org/simple, https://us-python.pkg.dev/colab-wheels/public/simple/\n",
            "Collecting datamol\n",
            "  Downloading datamol-0.9.2-py3-none-any.whl (309 kB)\n",
            "\u001b[2K     \u001b[90m━━━━━━━━━━━━━━━━━━━━━━━━━━━━━━━━━━━━━━━\u001b[0m \u001b[32m309.7/309.7 KB\u001b[0m \u001b[31m7.1 MB/s\u001b[0m eta \u001b[36m0:00:00\u001b[0m\n",
            "\u001b[?25hRequirement already satisfied: matplotlib in /usr/local/lib/python3.9/dist-packages (from datamol) (3.7.1)\n",
            "Requirement already satisfied: pandas in /usr/local/lib/python3.9/dist-packages (from datamol) (1.4.4)\n",
            "Requirement already satisfied: platformdirs in /usr/local/lib/python3.9/dist-packages (from datamol) (3.2.0)\n",
            "Requirement already satisfied: joblib in /usr/local/lib/python3.9/dist-packages (from datamol) (1.1.1)\n",
            "Requirement already satisfied: numpy in /usr/local/lib/python3.9/dist-packages (from datamol) (1.22.4)\n",
            "Requirement already satisfied: scipy in /usr/local/lib/python3.9/dist-packages (from datamol) (1.10.1)\n",
            "Collecting selfies\n",
            "  Downloading selfies-2.1.1-py3-none-any.whl (35 kB)\n",
            "Collecting loguru\n",
            "  Downloading loguru-0.6.0-py3-none-any.whl (58 kB)\n",
            "\u001b[2K     \u001b[90m━━━━━━━━━━━━━━━━━━━━━━━━━━━━━━━━━━━━━━━━\u001b[0m \u001b[32m58.3/58.3 KB\u001b[0m \u001b[31m8.6 MB/s\u001b[0m eta \u001b[36m0:00:00\u001b[0m\n",
            "\u001b[?25hRequirement already satisfied: packaging in /usr/local/lib/python3.9/dist-packages (from datamol) (23.0)\n",
            "Requirement already satisfied: fsspec>=2021.9 in /usr/local/lib/python3.9/dist-packages (from datamol) (2023.3.0)\n",
            "Requirement already satisfied: scikit-learn in /usr/local/lib/python3.9/dist-packages (from datamol) (1.2.2)\n",
            "Requirement already satisfied: typing-extensions in /usr/local/lib/python3.9/dist-packages (from datamol) (4.5.0)\n",
            "Requirement already satisfied: pillow in /usr/local/lib/python3.9/dist-packages (from datamol) (8.4.0)\n",
            "Requirement already satisfied: tqdm in /usr/local/lib/python3.9/dist-packages (from datamol) (4.65.0)\n",
            "Requirement already satisfied: python-dateutil>=2.7 in /usr/local/lib/python3.9/dist-packages (from matplotlib->datamol) (2.8.2)\n",
            "Requirement already satisfied: fonttools>=4.22.0 in /usr/local/lib/python3.9/dist-packages (from matplotlib->datamol) (4.39.3)\n",
            "Requirement already satisfied: importlib-resources>=3.2.0 in /usr/local/lib/python3.9/dist-packages (from matplotlib->datamol) (5.12.0)\n",
            "Requirement already satisfied: cycler>=0.10 in /usr/local/lib/python3.9/dist-packages (from matplotlib->datamol) (0.11.0)\n",
            "Requirement already satisfied: pyparsing>=2.3.1 in /usr/local/lib/python3.9/dist-packages (from matplotlib->datamol) (3.0.9)\n",
            "Requirement already satisfied: kiwisolver>=1.0.1 in /usr/local/lib/python3.9/dist-packages (from matplotlib->datamol) (1.4.4)\n",
            "Requirement already satisfied: contourpy>=1.0.1 in /usr/local/lib/python3.9/dist-packages (from matplotlib->datamol) (1.0.7)\n",
            "Requirement already satisfied: pytz>=2020.1 in /usr/local/lib/python3.9/dist-packages (from pandas->datamol) (2022.7.1)\n",
            "Requirement already satisfied: threadpoolctl>=2.0.0 in /usr/local/lib/python3.9/dist-packages (from scikit-learn->datamol) (3.1.0)\n",
            "Requirement already satisfied: zipp>=3.1.0 in /usr/local/lib/python3.9/dist-packages (from importlib-resources>=3.2.0->matplotlib->datamol) (3.15.0)\n",
            "Requirement already satisfied: six>=1.5 in /usr/local/lib/python3.9/dist-packages (from python-dateutil>=2.7->matplotlib->datamol) (1.16.0)\n",
            "Installing collected packages: selfies, loguru, datamol\n",
            "Successfully installed datamol-0.9.2 loguru-0.6.0 selfies-2.1.1\n"
          ]
        }
      ]
    },
    {
      "cell_type": "code",
      "execution_count": 6,
      "metadata": {
        "id": "DYgv5tfSAx-b"
      },
      "outputs": [],
      "source": [
        "#Import required libraries\n",
        "\n",
        "import pandas as pd\n",
        "import numpy as np\n",
        "from sklearn.feature_extraction.text import CountVectorizer\n",
        "from sklearn.linear_model import LogisticRegression\n",
        "from sklearn.metrics import accuracy_score, roc_auc_score\n",
        "import os\n",
        "from sklearn.preprocessing import LabelEncoder\n",
        "from sklearn import preprocessing\n",
        "import datamol as dm\n",
        "from rdkit import Chem\n",
        "from rdkit.Chem import Descriptors\n",
        "from rdkit.Chem import PandasTools"
      ]
    },
    {
      "cell_type": "code",
      "source": [
        "# Load the training data\n",
        "\n",
        "train_df = pd.read_csv(\"/content/drive/MyDrive/DMML/train_II.csv\")\n",
        "test_df = pd.read_csv(\"/content/drive/MyDrive/DMML/test_II.csv\")\n",
        "\n",
        "#Extract ChemID and AssayID from Id and x columns and drop Id and x columns\n",
        "\n",
        "train_df [['ChemID', 'AssayID']] = train_df['Id'].str.split(';' , expand = True)\n",
        "train_df = train_df.drop('Id', axis = 1)\n",
        "\n",
        "test_df [['ChemID', 'AssayID']] = test_df['x'].str.split(';' , expand = True)\n",
        "test_df = test_df.drop('x', axis = 1)\n"
      ],
      "metadata": {
        "id": "tj_Mt4gr544g"
      },
      "execution_count": 7,
      "outputs": []
    },
    {
      "cell_type": "code",
      "source": [
        "#Convert the categorical variables to numerical variables\n",
        "\n",
        "lbl = preprocessing.LabelEncoder()\n",
        "train_df['AssayID'] = lbl.fit_transform(train_df['AssayID'].astype(str))\n"
      ],
      "metadata": {
        "id": "CxI9sYdltZ2x"
      },
      "execution_count": 8,
      "outputs": []
    },
    {
      "cell_type": "code",
      "source": [
        "#Compute descriptors for the chemical structures\n",
        "\n",
        "smiles_column = \"ChemID\"\n",
        "\n",
        "def _preprocess(row):\n",
        "    \n",
        "    mol = dm.to_mol(row[smiles_column], ordered=True)\n",
        "\n",
        "    return row\n",
        "\n",
        "data_clean = train_df.apply(_preprocess, axis=1)\n",
        "data_clean"
      ],
      "metadata": {
        "colab": {
          "base_uri": "https://localhost:8080/",
          "height": 571
        },
        "id": "Kj2CS_k5QNkm",
        "outputId": "263bb939-18ca-47da-8f5d-a770309d25fa"
      },
      "execution_count": 9,
      "outputs": [
        {
          "output_type": "stream",
          "name": "stderr",
          "text": [
            "[23:04:12] Explicit valence for atom # 1 Si, 8, is greater than permitted\n",
            "[23:04:21] Explicit valence for atom # 1 Si, 8, is greater than permitted\n",
            "[23:04:30] Explicit valence for atom # 1 Si, 8, is greater than permitted\n",
            "[23:04:33] Explicit valence for atom # 1 Si, 8, is greater than permitted\n",
            "[23:04:42] Explicit valence for atom # 1 Si, 8, is greater than permitted\n",
            "[23:04:46] Explicit valence for atom # 1 Si, 8, is greater than permitted\n"
          ]
        },
        {
          "output_type": "execute_result",
          "data": {
            "text/plain": [
              "       Expected                                             ChemID  AssayID\n",
              "0             2         C1=CC(=CC=C1C(C2=CC=C(C=C2)O)C(Cl)(Cl)Cl)O       62\n",
              "1             2                                     CCCCCCCCC(=O)C      124\n",
              "2             2               CCCCCCCCCC[N+](C)(C)CCCCCCCCCC.[Cl-]       16\n",
              "3             2          C1CN(C(=N1)N[N+](=O)[O-])CC2=CN=C(C=C2)Cl       28\n",
              "4             2                                         [Na+].[I-]       95\n",
              "...         ...                                                ...      ...\n",
              "75378         2                    COC(=O)NS(=O)(=O)C1=CC=C(C=C1)N      136\n",
              "75379         1                 CCOP(=S)(OCC)OC1=NN(C(=N1)Cl)C(C)C       50\n",
              "75380         1                             C1=CC=C2C(=C1)NC(=S)S2        5\n",
              "75381         2                                       CCCCC(CC)C=O       99\n",
              "75382         1  CC(C)(C)C1=CC(=CC(=C1O)C(C)(C)C)CCC(=O)NCCCCCC...       99\n",
              "\n",
              "[75383 rows x 3 columns]"
            ],
            "text/html": [
              "\n",
              "  <div id=\"df-7ed3f791-d13e-4a19-bea8-344dcde07599\">\n",
              "    <div class=\"colab-df-container\">\n",
              "      <div>\n",
              "<style scoped>\n",
              "    .dataframe tbody tr th:only-of-type {\n",
              "        vertical-align: middle;\n",
              "    }\n",
              "\n",
              "    .dataframe tbody tr th {\n",
              "        vertical-align: top;\n",
              "    }\n",
              "\n",
              "    .dataframe thead th {\n",
              "        text-align: right;\n",
              "    }\n",
              "</style>\n",
              "<table border=\"1\" class=\"dataframe\">\n",
              "  <thead>\n",
              "    <tr style=\"text-align: right;\">\n",
              "      <th></th>\n",
              "      <th>Expected</th>\n",
              "      <th>ChemID</th>\n",
              "      <th>AssayID</th>\n",
              "    </tr>\n",
              "  </thead>\n",
              "  <tbody>\n",
              "    <tr>\n",
              "      <th>0</th>\n",
              "      <td>2</td>\n",
              "      <td>C1=CC(=CC=C1C(C2=CC=C(C=C2)O)C(Cl)(Cl)Cl)O</td>\n",
              "      <td>62</td>\n",
              "    </tr>\n",
              "    <tr>\n",
              "      <th>1</th>\n",
              "      <td>2</td>\n",
              "      <td>CCCCCCCCC(=O)C</td>\n",
              "      <td>124</td>\n",
              "    </tr>\n",
              "    <tr>\n",
              "      <th>2</th>\n",
              "      <td>2</td>\n",
              "      <td>CCCCCCCCCC[N+](C)(C)CCCCCCCCCC.[Cl-]</td>\n",
              "      <td>16</td>\n",
              "    </tr>\n",
              "    <tr>\n",
              "      <th>3</th>\n",
              "      <td>2</td>\n",
              "      <td>C1CN(C(=N1)N[N+](=O)[O-])CC2=CN=C(C=C2)Cl</td>\n",
              "      <td>28</td>\n",
              "    </tr>\n",
              "    <tr>\n",
              "      <th>4</th>\n",
              "      <td>2</td>\n",
              "      <td>[Na+].[I-]</td>\n",
              "      <td>95</td>\n",
              "    </tr>\n",
              "    <tr>\n",
              "      <th>...</th>\n",
              "      <td>...</td>\n",
              "      <td>...</td>\n",
              "      <td>...</td>\n",
              "    </tr>\n",
              "    <tr>\n",
              "      <th>75378</th>\n",
              "      <td>2</td>\n",
              "      <td>COC(=O)NS(=O)(=O)C1=CC=C(C=C1)N</td>\n",
              "      <td>136</td>\n",
              "    </tr>\n",
              "    <tr>\n",
              "      <th>75379</th>\n",
              "      <td>1</td>\n",
              "      <td>CCOP(=S)(OCC)OC1=NN(C(=N1)Cl)C(C)C</td>\n",
              "      <td>50</td>\n",
              "    </tr>\n",
              "    <tr>\n",
              "      <th>75380</th>\n",
              "      <td>1</td>\n",
              "      <td>C1=CC=C2C(=C1)NC(=S)S2</td>\n",
              "      <td>5</td>\n",
              "    </tr>\n",
              "    <tr>\n",
              "      <th>75381</th>\n",
              "      <td>2</td>\n",
              "      <td>CCCCC(CC)C=O</td>\n",
              "      <td>99</td>\n",
              "    </tr>\n",
              "    <tr>\n",
              "      <th>75382</th>\n",
              "      <td>1</td>\n",
              "      <td>CC(C)(C)C1=CC(=CC(=C1O)C(C)(C)C)CCC(=O)NCCCCCC...</td>\n",
              "      <td>99</td>\n",
              "    </tr>\n",
              "  </tbody>\n",
              "</table>\n",
              "<p>75383 rows × 3 columns</p>\n",
              "</div>\n",
              "      <button class=\"colab-df-convert\" onclick=\"convertToInteractive('df-7ed3f791-d13e-4a19-bea8-344dcde07599')\"\n",
              "              title=\"Convert this dataframe to an interactive table.\"\n",
              "              style=\"display:none;\">\n",
              "        \n",
              "  <svg xmlns=\"http://www.w3.org/2000/svg\" height=\"24px\"viewBox=\"0 0 24 24\"\n",
              "       width=\"24px\">\n",
              "    <path d=\"M0 0h24v24H0V0z\" fill=\"none\"/>\n",
              "    <path d=\"M18.56 5.44l.94 2.06.94-2.06 2.06-.94-2.06-.94-.94-2.06-.94 2.06-2.06.94zm-11 1L8.5 8.5l.94-2.06 2.06-.94-2.06-.94L8.5 2.5l-.94 2.06-2.06.94zm10 10l.94 2.06.94-2.06 2.06-.94-2.06-.94-.94-2.06-.94 2.06-2.06.94z\"/><path d=\"M17.41 7.96l-1.37-1.37c-.4-.4-.92-.59-1.43-.59-.52 0-1.04.2-1.43.59L10.3 9.45l-7.72 7.72c-.78.78-.78 2.05 0 2.83L4 21.41c.39.39.9.59 1.41.59.51 0 1.02-.2 1.41-.59l7.78-7.78 2.81-2.81c.8-.78.8-2.07 0-2.86zM5.41 20L4 18.59l7.72-7.72 1.47 1.35L5.41 20z\"/>\n",
              "  </svg>\n",
              "      </button>\n",
              "      \n",
              "  <style>\n",
              "    .colab-df-container {\n",
              "      display:flex;\n",
              "      flex-wrap:wrap;\n",
              "      gap: 12px;\n",
              "    }\n",
              "\n",
              "    .colab-df-convert {\n",
              "      background-color: #E8F0FE;\n",
              "      border: none;\n",
              "      border-radius: 50%;\n",
              "      cursor: pointer;\n",
              "      display: none;\n",
              "      fill: #1967D2;\n",
              "      height: 32px;\n",
              "      padding: 0 0 0 0;\n",
              "      width: 32px;\n",
              "    }\n",
              "\n",
              "    .colab-df-convert:hover {\n",
              "      background-color: #E2EBFA;\n",
              "      box-shadow: 0px 1px 2px rgba(60, 64, 67, 0.3), 0px 1px 3px 1px rgba(60, 64, 67, 0.15);\n",
              "      fill: #174EA6;\n",
              "    }\n",
              "\n",
              "    [theme=dark] .colab-df-convert {\n",
              "      background-color: #3B4455;\n",
              "      fill: #D2E3FC;\n",
              "    }\n",
              "\n",
              "    [theme=dark] .colab-df-convert:hover {\n",
              "      background-color: #434B5C;\n",
              "      box-shadow: 0px 1px 3px 1px rgba(0, 0, 0, 0.15);\n",
              "      filter: drop-shadow(0px 1px 2px rgba(0, 0, 0, 0.3));\n",
              "      fill: #FFFFFF;\n",
              "    }\n",
              "  </style>\n",
              "\n",
              "      <script>\n",
              "        const buttonEl =\n",
              "          document.querySelector('#df-7ed3f791-d13e-4a19-bea8-344dcde07599 button.colab-df-convert');\n",
              "        buttonEl.style.display =\n",
              "          google.colab.kernel.accessAllowed ? 'block' : 'none';\n",
              "\n",
              "        async function convertToInteractive(key) {\n",
              "          const element = document.querySelector('#df-7ed3f791-d13e-4a19-bea8-344dcde07599');\n",
              "          const dataTable =\n",
              "            await google.colab.kernel.invokeFunction('convertToInteractive',\n",
              "                                                     [key], {});\n",
              "          if (!dataTable) return;\n",
              "\n",
              "          const docLinkHtml = 'Like what you see? Visit the ' +\n",
              "            '<a target=\"_blank\" href=https://colab.research.google.com/notebooks/data_table.ipynb>data table notebook</a>'\n",
              "            + ' to learn more about interactive tables.';\n",
              "          element.innerHTML = '';\n",
              "          dataTable['output_type'] = 'display_data';\n",
              "          await google.colab.output.renderOutput(dataTable, element);\n",
              "          const docLink = document.createElement('div');\n",
              "          docLink.innerHTML = docLinkHtml;\n",
              "          element.appendChild(docLink);\n",
              "        }\n",
              "      </script>\n",
              "    </div>\n",
              "  </div>\n",
              "  "
            ]
          },
          "metadata": {},
          "execution_count": 9
        }
      ]
    },
    {
      "cell_type": "code",
      "source": [
        "data_clean[\"mol\"] = data_clean['ChemID'].apply(dm.to_mol)"
      ],
      "metadata": {
        "colab": {
          "base_uri": "https://localhost:8080/"
        },
        "id": "oCQH7GdWR7rk",
        "outputId": "298f04af-184f-407e-8acb-2d5ab824c3f6"
      },
      "execution_count": 10,
      "outputs": [
        {
          "output_type": "stream",
          "name": "stderr",
          "text": [
            "[23:04:51] Explicit valence for atom # 1 Si, 8, is greater than permitted\n",
            "[23:04:53] Explicit valence for atom # 1 Si, 8, is greater than permitted\n",
            "[23:04:55] Explicit valence for atom # 1 Si, 8, is greater than permitted\n",
            "[23:04:55] Explicit valence for atom # 1 Si, 8, is greater than permitted\n",
            "[23:04:57] Explicit valence for atom # 1 Si, 8, is greater than permitted\n",
            "[23:04:58] Explicit valence for atom # 1 Si, 8, is greater than permitted\n"
          ]
        }
      ]
    },
    {
      "cell_type": "code",
      "source": [
        "data_clean[\"mol\"].fillna(method='bfill', inplace=True)\n",
        "mols = data_clean['mol'].tolist()\n",
        "data_descriptors = dm.descriptors.batch_compute_many_descriptors(mols)\n",
        "data_descriptors.info()"
      ],
      "metadata": {
        "colab": {
          "base_uri": "https://localhost:8080/"
        },
        "id": "TsNsGwRMScmZ",
        "outputId": "025a0c44-92dc-4f09-c892-ec1dc25d247e"
      },
      "execution_count": 11,
      "outputs": [
        {
          "output_type": "stream",
          "name": "stdout",
          "text": [
            "<class 'pandas.core.frame.DataFrame'>\n",
            "RangeIndex: 75383 entries, 0 to 75382\n",
            "Data columns (total 22 columns):\n",
            " #   Column                   Non-Null Count  Dtype  \n",
            "---  ------                   --------------  -----  \n",
            " 0   mw                       75383 non-null  float64\n",
            " 1   fsp3                     75383 non-null  float64\n",
            " 2   n_lipinski_hba           75383 non-null  int64  \n",
            " 3   n_lipinski_hbd           75383 non-null  int64  \n",
            " 4   n_rings                  75383 non-null  int64  \n",
            " 5   n_hetero_atoms           75383 non-null  int64  \n",
            " 6   n_heavy_atoms            75383 non-null  int64  \n",
            " 7   n_rotatable_bonds        75383 non-null  int64  \n",
            " 8   n_radical_electrons      75383 non-null  int64  \n",
            " 9   tpsa                     75383 non-null  float64\n",
            " 10  qed                      75383 non-null  float64\n",
            " 11  clogp                    75383 non-null  float64\n",
            " 12  sas                      75383 non-null  float64\n",
            " 13  n_aliphatic_carbocycles  75383 non-null  int64  \n",
            " 14  n_aliphatic_heterocyles  75383 non-null  int64  \n",
            " 15  n_aliphatic_rings        75383 non-null  int64  \n",
            " 16  n_aromatic_carbocycles   75383 non-null  int64  \n",
            " 17  n_aromatic_heterocyles   75383 non-null  int64  \n",
            " 18  n_aromatic_rings         75383 non-null  int64  \n",
            " 19  n_saturated_carbocycles  75383 non-null  int64  \n",
            " 20  n_saturated_heterocyles  75383 non-null  int64  \n",
            " 21  n_saturated_rings        75383 non-null  int64  \n",
            "dtypes: float64(6), int64(16)\n",
            "memory usage: 12.7 MB\n"
          ]
        }
      ]
    },
    {
      "cell_type": "code",
      "source": [
        "#Add computed descriptors to the original dataframe\n",
        "\n",
        "data_descriptorst = pd.concat([train_df, data_descriptors], axis=1)"
      ],
      "metadata": {
        "id": "acrWgEDTUZnz"
      },
      "execution_count": 12,
      "outputs": []
    },
    {
      "cell_type": "code",
      "source": [
        "#Compute additional descriptors using RDKit\n",
        "\n",
        "data_descriptorst[\"mol\"] = data_descriptorst[\"ChemID\"].apply(lambda x: Chem.MolFromSmiles(x))\n",
        "data_descriptorst = data_descriptorst.dropna(subset=['mol'])\n"
      ],
      "metadata": {
        "id": "m4o55xWBaEZU",
        "colab": {
          "base_uri": "https://localhost:8080/"
        },
        "outputId": "d34299d6-4785-43ec-a1c2-8f245e9ca8ea"
      },
      "execution_count": 13,
      "outputs": [
        {
          "output_type": "stream",
          "name": "stderr",
          "text": [
            "[23:08:36] Explicit valence for atom # 1 Si, 8, is greater than permitted\n",
            "[23:08:38] Explicit valence for atom # 1 Si, 8, is greater than permitted\n",
            "[23:08:40] Explicit valence for atom # 1 Si, 8, is greater than permitted\n",
            "[23:08:40] Explicit valence for atom # 1 Si, 8, is greater than permitted\n",
            "[23:08:42] Explicit valence for atom # 1 Si, 8, is greater than permitted\n",
            "[23:08:43] Explicit valence for atom # 1 Si, 8, is greater than permitted\n"
          ]
        }
      ]
    },
    {
      "cell_type": "code",
      "source": [
        "PandasTools.AddMoleculeColumnToFrame (data_descriptorst, 'ChemID', 'Molecule')"
      ],
      "metadata": {
        "id": "YZXGnfYrcKdR"
      },
      "execution_count": 14,
      "outputs": []
    },
    {
      "cell_type": "code",
      "source": [
        "data_descriptorst ['MaxEStateIndex'] = [Descriptors.MaxEStateIndex(mol) for mol in data_descriptorst['Molecule'] ]\n",
        "data_descriptorst ['MinEStateIndex'] = [Descriptors.MinEStateIndex(mol) for mol in data_descriptorst['Molecule'] ]\n",
        "data_descriptorst ['MinPartialCharge'] = [Descriptors.MinPartialCharge(mol) for mol in data_descriptorst['Molecule'] ]\n",
        "data_descriptorst ['VSA_EState3'] = [Descriptors.VSA_EState3(mol) for mol in data_descriptorst['Molecule'] ]\n",
        "data_descriptorst ['MolLogP'] = [Descriptors.MolLogP(mol) for mol in data_descriptorst['Molecule'] ]\n",
        "data_descriptorst ['BCUT2D_MWHI'] = [Descriptors.BCUT2D_MWHI(mol) for mol in data_descriptorst['Molecule'] ]\n",
        "data_descriptorst ['BCUT2D_MWLOW'] = [Descriptors.BCUT2D_MWLOW(mol) for mol in data_descriptorst['Molecule'] ]\n",
        "data_descriptorst ['BalabanJ'] = [Descriptors.BalabanJ(mol) for mol in data_descriptorst['Molecule'] ]\n"
      ],
      "metadata": {
        "id": "PXwtwAnqa75D"
      },
      "execution_count": 15,
      "outputs": []
    },
    {
      "cell_type": "code",
      "source": [
        "# Encode categorical features\n",
        "\n",
        "lbl = preprocessing.LabelEncoder()\n",
        "data_descriptorst['AssayID'] = lbl.fit_transform(data_descriptorst['AssayID'].astype(str))"
      ],
      "metadata": {
        "id": "SellXo9WWS4F"
      },
      "execution_count": 16,
      "outputs": []
    },
    {
      "cell_type": "code",
      "source": [
        "# Drop unnecessary columns\n",
        "\n",
        "data_descriptorst = data_descriptorst.drop('ChemID', axis = 1)\n",
        "data_descriptorst = data_descriptorst.drop('mol', axis = 1)\n",
        "data_descriptorst = data_descriptorst.drop('Molecule', axis = 1)"
      ],
      "metadata": {
        "id": "kJOXINMbehlP"
      },
      "execution_count": 17,
      "outputs": []
    },
    {
      "cell_type": "code",
      "source": [
        "# Split data into input features and target\n",
        "\n",
        "X = data_descriptorst.drop('Expected', axis=1)\n",
        "y = data_descriptorst['Expected']\n",
        "y = y-1"
      ],
      "metadata": {
        "id": "5gex3KhmWEPi"
      },
      "execution_count": 18,
      "outputs": []
    },
    {
      "cell_type": "code",
      "source": [
        "import lightgbm as lgb\n",
        "from xgboost import XGBClassifier\n",
        "from sklearn.ensemble import RandomForestClassifier, VotingClassifier\n",
        "\n",
        "# Initialize models\n",
        "xgb = XGBClassifier()\n",
        "\n",
        "#defining base estimators\n",
        "clf1 = XGBClassifier(random_state=1,booster=\"gbtree\",learning_rate=0.2,n_estimators=600,max_depth=5, n_jobs=-1)\n",
        "\n",
        "clf2 = lgb.LGBMClassifier(boosting_type= 'goss',learning_rate=0.1,n_estimators=600,max_depth=5,num_leaves=150, n_jobs=-1)\n",
        "\n",
        "# Create a voting classifier\n",
        "estimators = [('XGB', clf1), ('LGB', clf2)]\n",
        "\n",
        "vc = VotingClassifier(estimators=estimators,voting='hard',weights=[1,1])\n",
        "\n",
        "vc = vc.fit(X, y)\n"
      ],
      "metadata": {
        "id": "Vu9P9TbvGARv"
      },
      "execution_count": 19,
      "outputs": []
    },
    {
      "cell_type": "code",
      "source": [
        "#Compute descriptors for the chemical structures for test data\n",
        "\n",
        "smiles_column = \"ChemID\"\n",
        "\n",
        "def _preprocess(row):\n",
        "    \n",
        "    mol = dm.to_mol(row[smiles_column], ordered=True)\n",
        "\n",
        "    return row\n",
        "\n",
        "data_clean = test_df.apply(_preprocess, axis=1)\n",
        "data_clean\n"
      ],
      "metadata": {
        "colab": {
          "base_uri": "https://localhost:8080/",
          "height": 423
        },
        "id": "xLfn9GscWhkS",
        "outputId": "c4ff8a03-f10b-4bf3-a661-4d4e3d19dcc9"
      },
      "execution_count": 20,
      "outputs": [
        {
          "output_type": "execute_result",
          "data": {
            "text/plain": [
              "                                                  ChemID AssayID\n",
              "0                              CC1=CC(=C(C=C1)C(C)(C)C)O    1682\n",
              "1      CCS(=O)(=O)C1=C(N=CC=C1)S(=O)(=O)NC(=O)NC2=NC(...    1656\n",
              "2      CC1=NC2=CC=CC=C2N1C3CC4CCC(C3)N4CCC5(CCN(CC5)C...      36\n",
              "3                         CC1=CC(=O)[N-]S(=O)(=O)O1.[K+]    1850\n",
              "4      CCC(C)(C)C(=O)O[C@H]1C[C@H](C=C2[C@H]1[C@H]([C...      30\n",
              "...                                                  ...     ...\n",
              "10989  CC(=NOCC1=CC=CC=C1C(=NOC)C(=O)OC)C2=CC(=CC=C2)...      38\n",
              "10990  C1=CC=C(C(=C1)C(C2=CC=C(C=C2)O)C3=CC=C(C=C3)O)...      34\n",
              "10991  CC1=NC(=NC(=N1)OC)NC(=O)NS(=O)(=O)C2=CC=CC=C2C...    1640\n",
              "10992                              COP(=O)(OC)OC=C(Cl)Cl      28\n",
              "10993                             C1=CC=C2C(=C1)C(=O)NS2    1855\n",
              "\n",
              "[10994 rows x 2 columns]"
            ],
            "text/html": [
              "\n",
              "  <div id=\"df-d5dd092b-ec1e-4560-88ac-d942065319bc\">\n",
              "    <div class=\"colab-df-container\">\n",
              "      <div>\n",
              "<style scoped>\n",
              "    .dataframe tbody tr th:only-of-type {\n",
              "        vertical-align: middle;\n",
              "    }\n",
              "\n",
              "    .dataframe tbody tr th {\n",
              "        vertical-align: top;\n",
              "    }\n",
              "\n",
              "    .dataframe thead th {\n",
              "        text-align: right;\n",
              "    }\n",
              "</style>\n",
              "<table border=\"1\" class=\"dataframe\">\n",
              "  <thead>\n",
              "    <tr style=\"text-align: right;\">\n",
              "      <th></th>\n",
              "      <th>ChemID</th>\n",
              "      <th>AssayID</th>\n",
              "    </tr>\n",
              "  </thead>\n",
              "  <tbody>\n",
              "    <tr>\n",
              "      <th>0</th>\n",
              "      <td>CC1=CC(=C(C=C1)C(C)(C)C)O</td>\n",
              "      <td>1682</td>\n",
              "    </tr>\n",
              "    <tr>\n",
              "      <th>1</th>\n",
              "      <td>CCS(=O)(=O)C1=C(N=CC=C1)S(=O)(=O)NC(=O)NC2=NC(...</td>\n",
              "      <td>1656</td>\n",
              "    </tr>\n",
              "    <tr>\n",
              "      <th>2</th>\n",
              "      <td>CC1=NC2=CC=CC=C2N1C3CC4CCC(C3)N4CCC5(CCN(CC5)C...</td>\n",
              "      <td>36</td>\n",
              "    </tr>\n",
              "    <tr>\n",
              "      <th>3</th>\n",
              "      <td>CC1=CC(=O)[N-]S(=O)(=O)O1.[K+]</td>\n",
              "      <td>1850</td>\n",
              "    </tr>\n",
              "    <tr>\n",
              "      <th>4</th>\n",
              "      <td>CCC(C)(C)C(=O)O[C@H]1C[C@H](C=C2[C@H]1[C@H]([C...</td>\n",
              "      <td>30</td>\n",
              "    </tr>\n",
              "    <tr>\n",
              "      <th>...</th>\n",
              "      <td>...</td>\n",
              "      <td>...</td>\n",
              "    </tr>\n",
              "    <tr>\n",
              "      <th>10989</th>\n",
              "      <td>CC(=NOCC1=CC=CC=C1C(=NOC)C(=O)OC)C2=CC(=CC=C2)...</td>\n",
              "      <td>38</td>\n",
              "    </tr>\n",
              "    <tr>\n",
              "      <th>10990</th>\n",
              "      <td>C1=CC=C(C(=C1)C(C2=CC=C(C=C2)O)C3=CC=C(C=C3)O)...</td>\n",
              "      <td>34</td>\n",
              "    </tr>\n",
              "    <tr>\n",
              "      <th>10991</th>\n",
              "      <td>CC1=NC(=NC(=N1)OC)NC(=O)NS(=O)(=O)C2=CC=CC=C2C...</td>\n",
              "      <td>1640</td>\n",
              "    </tr>\n",
              "    <tr>\n",
              "      <th>10992</th>\n",
              "      <td>COP(=O)(OC)OC=C(Cl)Cl</td>\n",
              "      <td>28</td>\n",
              "    </tr>\n",
              "    <tr>\n",
              "      <th>10993</th>\n",
              "      <td>C1=CC=C2C(=C1)C(=O)NS2</td>\n",
              "      <td>1855</td>\n",
              "    </tr>\n",
              "  </tbody>\n",
              "</table>\n",
              "<p>10994 rows × 2 columns</p>\n",
              "</div>\n",
              "      <button class=\"colab-df-convert\" onclick=\"convertToInteractive('df-d5dd092b-ec1e-4560-88ac-d942065319bc')\"\n",
              "              title=\"Convert this dataframe to an interactive table.\"\n",
              "              style=\"display:none;\">\n",
              "        \n",
              "  <svg xmlns=\"http://www.w3.org/2000/svg\" height=\"24px\"viewBox=\"0 0 24 24\"\n",
              "       width=\"24px\">\n",
              "    <path d=\"M0 0h24v24H0V0z\" fill=\"none\"/>\n",
              "    <path d=\"M18.56 5.44l.94 2.06.94-2.06 2.06-.94-2.06-.94-.94-2.06-.94 2.06-2.06.94zm-11 1L8.5 8.5l.94-2.06 2.06-.94-2.06-.94L8.5 2.5l-.94 2.06-2.06.94zm10 10l.94 2.06.94-2.06 2.06-.94-2.06-.94-.94-2.06-.94 2.06-2.06.94z\"/><path d=\"M17.41 7.96l-1.37-1.37c-.4-.4-.92-.59-1.43-.59-.52 0-1.04.2-1.43.59L10.3 9.45l-7.72 7.72c-.78.78-.78 2.05 0 2.83L4 21.41c.39.39.9.59 1.41.59.51 0 1.02-.2 1.41-.59l7.78-7.78 2.81-2.81c.8-.78.8-2.07 0-2.86zM5.41 20L4 18.59l7.72-7.72 1.47 1.35L5.41 20z\"/>\n",
              "  </svg>\n",
              "      </button>\n",
              "      \n",
              "  <style>\n",
              "    .colab-df-container {\n",
              "      display:flex;\n",
              "      flex-wrap:wrap;\n",
              "      gap: 12px;\n",
              "    }\n",
              "\n",
              "    .colab-df-convert {\n",
              "      background-color: #E8F0FE;\n",
              "      border: none;\n",
              "      border-radius: 50%;\n",
              "      cursor: pointer;\n",
              "      display: none;\n",
              "      fill: #1967D2;\n",
              "      height: 32px;\n",
              "      padding: 0 0 0 0;\n",
              "      width: 32px;\n",
              "    }\n",
              "\n",
              "    .colab-df-convert:hover {\n",
              "      background-color: #E2EBFA;\n",
              "      box-shadow: 0px 1px 2px rgba(60, 64, 67, 0.3), 0px 1px 3px 1px rgba(60, 64, 67, 0.15);\n",
              "      fill: #174EA6;\n",
              "    }\n",
              "\n",
              "    [theme=dark] .colab-df-convert {\n",
              "      background-color: #3B4455;\n",
              "      fill: #D2E3FC;\n",
              "    }\n",
              "\n",
              "    [theme=dark] .colab-df-convert:hover {\n",
              "      background-color: #434B5C;\n",
              "      box-shadow: 0px 1px 3px 1px rgba(0, 0, 0, 0.15);\n",
              "      filter: drop-shadow(0px 1px 2px rgba(0, 0, 0, 0.3));\n",
              "      fill: #FFFFFF;\n",
              "    }\n",
              "  </style>\n",
              "\n",
              "      <script>\n",
              "        const buttonEl =\n",
              "          document.querySelector('#df-d5dd092b-ec1e-4560-88ac-d942065319bc button.colab-df-convert');\n",
              "        buttonEl.style.display =\n",
              "          google.colab.kernel.accessAllowed ? 'block' : 'none';\n",
              "\n",
              "        async function convertToInteractive(key) {\n",
              "          const element = document.querySelector('#df-d5dd092b-ec1e-4560-88ac-d942065319bc');\n",
              "          const dataTable =\n",
              "            await google.colab.kernel.invokeFunction('convertToInteractive',\n",
              "                                                     [key], {});\n",
              "          if (!dataTable) return;\n",
              "\n",
              "          const docLinkHtml = 'Like what you see? Visit the ' +\n",
              "            '<a target=\"_blank\" href=https://colab.research.google.com/notebooks/data_table.ipynb>data table notebook</a>'\n",
              "            + ' to learn more about interactive tables.';\n",
              "          element.innerHTML = '';\n",
              "          dataTable['output_type'] = 'display_data';\n",
              "          await google.colab.output.renderOutput(dataTable, element);\n",
              "          const docLink = document.createElement('div');\n",
              "          docLink.innerHTML = docLinkHtml;\n",
              "          element.appendChild(docLink);\n",
              "        }\n",
              "      </script>\n",
              "    </div>\n",
              "  </div>\n",
              "  "
            ]
          },
          "metadata": {},
          "execution_count": 20
        }
      ]
    },
    {
      "cell_type": "code",
      "source": [
        "data_clean[\"mol\"] = data_clean['ChemID'].apply(dm.to_mol)"
      ],
      "metadata": {
        "id": "d8kllfCjXLWH"
      },
      "execution_count": 21,
      "outputs": []
    },
    {
      "cell_type": "code",
      "source": [
        "data_clean[\"mol\"].fillna(method='bfill', inplace=True)\n",
        "mols = data_clean['mol'].tolist()\n",
        "data_descriptors = dm.descriptors.batch_compute_many_descriptors(mols)\n",
        "data_descriptors.info()"
      ],
      "metadata": {
        "colab": {
          "base_uri": "https://localhost:8080/"
        },
        "id": "5pUn1u98XQGJ",
        "outputId": "f4b5048d-8bd5-4abc-db54-48c58ede98e8"
      },
      "execution_count": 22,
      "outputs": [
        {
          "output_type": "stream",
          "name": "stdout",
          "text": [
            "<class 'pandas.core.frame.DataFrame'>\n",
            "RangeIndex: 10994 entries, 0 to 10993\n",
            "Data columns (total 22 columns):\n",
            " #   Column                   Non-Null Count  Dtype  \n",
            "---  ------                   --------------  -----  \n",
            " 0   mw                       10994 non-null  float64\n",
            " 1   fsp3                     10994 non-null  float64\n",
            " 2   n_lipinski_hba           10994 non-null  int64  \n",
            " 3   n_lipinski_hbd           10994 non-null  int64  \n",
            " 4   n_rings                  10994 non-null  int64  \n",
            " 5   n_hetero_atoms           10994 non-null  int64  \n",
            " 6   n_heavy_atoms            10994 non-null  int64  \n",
            " 7   n_rotatable_bonds        10994 non-null  int64  \n",
            " 8   n_radical_electrons      10994 non-null  int64  \n",
            " 9   tpsa                     10994 non-null  float64\n",
            " 10  qed                      10994 non-null  float64\n",
            " 11  clogp                    10994 non-null  float64\n",
            " 12  sas                      10994 non-null  float64\n",
            " 13  n_aliphatic_carbocycles  10994 non-null  int64  \n",
            " 14  n_aliphatic_heterocyles  10994 non-null  int64  \n",
            " 15  n_aliphatic_rings        10994 non-null  int64  \n",
            " 16  n_aromatic_carbocycles   10994 non-null  int64  \n",
            " 17  n_aromatic_heterocyles   10994 non-null  int64  \n",
            " 18  n_aromatic_rings         10994 non-null  int64  \n",
            " 19  n_saturated_carbocycles  10994 non-null  int64  \n",
            " 20  n_saturated_heterocyles  10994 non-null  int64  \n",
            " 21  n_saturated_rings        10994 non-null  int64  \n",
            "dtypes: float64(6), int64(16)\n",
            "memory usage: 1.8 MB\n"
          ]
        }
      ]
    },
    {
      "cell_type": "code",
      "source": [
        "#Add computed descriptors to the original dataframe\n",
        "\n",
        "test = pd.concat([test_df, data_descriptors], axis=1)"
      ],
      "metadata": {
        "id": "Sndtcl_8Xlmo"
      },
      "execution_count": 23,
      "outputs": []
    },
    {
      "cell_type": "code",
      "source": [
        "test[\"mol\"] = test[\"ChemID\"].apply(lambda x: Chem.MolFromSmiles(x))\n",
        "test = test.dropna(subset=['mol'])"
      ],
      "metadata": {
        "id": "a-FMZFEggAsM"
      },
      "execution_count": 24,
      "outputs": []
    },
    {
      "cell_type": "code",
      "source": [
        "PandasTools.AddMoleculeColumnToFrame(test, 'ChemID', 'Molecule')"
      ],
      "metadata": {
        "id": "o6KX5RKlgzGF"
      },
      "execution_count": 25,
      "outputs": []
    },
    {
      "cell_type": "code",
      "source": [
        "# Compute additional descriptors using RDKit\n",
        "\n",
        "test ['MaxEStateIndex'] = [Descriptors.MaxEStateIndex(mol) for mol in test['Molecule'] ]\n",
        "test ['MinEStateIndex'] = [Descriptors.MinEStateIndex(mol) for mol in test['Molecule'] ]\n",
        "test ['MinPartialCharge'] = [Descriptors.MinPartialCharge(mol) for mol in test['Molecule'] ]\n",
        "test ['VSA_EState3'] = [Descriptors.VSA_EState3(mol) for mol in test['Molecule'] ]\n",
        "test ['MolLogP'] = [Descriptors.MolLogP(mol) for mol in test['Molecule'] ]\n",
        "test ['BCUT2D_MWHI'] = [Descriptors.BCUT2D_MWHI(mol) for mol in test['Molecule'] ]\n",
        "test ['BCUT2D_MWLOW'] = [Descriptors.BCUT2D_MWLOW(mol) for mol in test['Molecule'] ]\n",
        "test ['BalabanJ'] = [Descriptors.BalabanJ(mol) for mol in test['Molecule'] ]\n"
      ],
      "metadata": {
        "id": "_D8GjtT4fxNy"
      },
      "execution_count": 26,
      "outputs": []
    },
    {
      "cell_type": "code",
      "source": [
        "# Drop unnecessary columns\n",
        "\n",
        "test = test.drop('ChemID', axis = 1)\n",
        "test = test.drop('mol', axis = 1)\n",
        "test = test.drop('Molecule', axis = 1)"
      ],
      "metadata": {
        "id": "1F-ykaMXX3DQ"
      },
      "execution_count": 27,
      "outputs": []
    },
    {
      "cell_type": "code",
      "source": [
        "lbl = preprocessing.LabelEncoder()\n",
        "test['AssayID'] = lbl.fit_transform(test['AssayID'].astype(str))"
      ],
      "metadata": {
        "id": "v6RKq8drYN9X"
      },
      "execution_count": 28,
      "outputs": []
    },
    {
      "cell_type": "code",
      "source": [
        "# Make predictions on the test data\n",
        "y_pred = vc.predict(test)\n",
        "y_pred = y_pred + 1\n",
        "\n",
        "test_df = pd.read_csv(\"/content/drive/MyDrive/DMML/test_II.csv\")\n",
        "\n",
        "\n",
        "output = pd.DataFrame({'Id': test_df.x, 'Predicted': y_pred})\n",
        "output.to_csv('my_submission.csv', index=False)\n"
      ],
      "metadata": {
        "id": "fn42vwjc3GLj"
      },
      "execution_count": 29,
      "outputs": []
    },
    {
      "cell_type": "code",
      "source": [
        " from google.colab import files\n",
        "\n",
        " files.download('my_submission.csv')"
      ],
      "metadata": {
        "id": "YVVNLMc81F51"
      },
      "execution_count": 30,
      "outputs": []
    }
  ]
}
